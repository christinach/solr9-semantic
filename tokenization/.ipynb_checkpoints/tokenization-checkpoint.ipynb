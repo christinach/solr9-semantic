{
 "cells": [
  {
   "cell_type": "code",
   "execution_count": null,
   "id": "5839bd32-f9cf-4954-b638-d2ff5e1890c0",
   "metadata": {},
   "outputs": [],
   "source": [
    "pip install transformers torch"
   ]
  }
 ],
 "metadata": {
  "kernelspec": {
   "display_name": "Python 3 (ipykernel)",
   "language": "python",
   "name": "python3"
  },
  "language_info": {
   "codemirror_mode": {
    "name": "ipython",
    "version": 3
   },
   "file_extension": ".py",
   "mimetype": "text/x-python",
   "name": "python",
   "nbconvert_exporter": "python",
   "pygments_lexer": "ipython3",
   "version": "3.9.0"
  }
 },
 "nbformat": 4,
 "nbformat_minor": 5
}
